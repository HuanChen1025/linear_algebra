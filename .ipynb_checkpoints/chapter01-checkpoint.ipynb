{
 "cells": [
  {
   "cell_type": "markdown",
   "metadata": {},
   "source": [
    "# 第一讲：方程组的集合解释\n",
    "\n",
    "本课程从求解简单的几何方程组开始，方程组有两个未知数，一共两个方程，分别画出它们的 row picture 和 column picuter。\n",
    "\n",
    "有方程组：\n",
    "$\\begin{cases} \n",
    "\t\t2x-y = 0\\\\\n",
    "\t\t\\\\\n",
    "\t\t-x + 2y = 3\t\t\t\n",
    "\t\\end{cases}$\n",
    ",它的行矩阵为：$\\begin{bmatrix}2&-1\\\\\\\\-1&2\\end{bmatrix}\\begin{bmatrix}x\\\\\\\\y\\end{bmatrix}=\\begin{bmatrix}0\\\\\\\\3\\end{bmatrix}$ ，通常我们把第一个矩阵称为系数矩阵$A$，将第二个矩阵称为向量$x$，将第三个矩阵称为向量$b$，于是线性方程组可以表示为$Ax=b$。\n",
    "\n",
    "### row picture： 为直角坐标系下的图像。"
   ]
  },
  {
   "cell_type": "code",
   "execution_count": 6,
   "metadata": {},
   "outputs": [
    {
     "data": {
      "image/png": "[encoded data removed]",
      "text/plain": [
       "<matplotlib.figure.Figure at 0x2793866d7f0>"
      ]
     },
     "metadata": {},
     "output_type": "display_data"
    }
   ],
   "source": [
    "import matplotlib.pyplot as plt\n",
    "import numpy as np\n",
    "import pandas as pd\n",
    "\n",
    "x = [-2, 2, -2, 2]\n",
    "y = [-4, 4, 0.5, 2.5]\n",
    "\n",
    "fig = plt.figure()\n",
    "plt.axhline(y=0, c='black')\n",
    "plt.axvline(x=0, c='black')\n",
    "\n",
    "plt.grid(True)\n",
    "\n",
    "plt.plot(x[:2], y[:2], x[2:], y[2:])\n",
    "\n",
    "plt.draw()\n",
    "\n",
    "plt.show()\n",
    "\n",
    "plt.close(fig)\n"
   ]
  },
  {
   "cell_type": "markdown",
   "metadata": {},
   "source": [
    "### column picture: \n",
    "\n",
    "上图是两条直线的相交，下面看列图像，在二维平面上画出列向量，方程组如下所示：\n",
    "\n",
    "$x\\begin{bmatrix}2\\\\\\\\-1\\end{bmatrix} + y\\begin{bmatrix}-1\\\\\\\\2\\end{bmatrix} = \\begin{bmatrix}0\\\\\\\\3\\end{bmatrix}$ \n",
    "\n",
    "我们把第一个向量称为 $col_1$ ，第二个向量称为 $col_2$ ,需要上面的式子成立，需要在第一个向量前乘1，第二个向量前乘2：\n",
    "\n",
    "$1\\begin{bmatrix}2\\\\\\\\-1\\end{bmatrix} + 2\\begin{bmatrix}-1\\\\\\\\2\\end{bmatrix} = \\begin{bmatrix}0\\\\\\\\3\\end{bmatrix}$\n",
    "\n",
    " \n",
    "\n",
    "\n"
   ]
  },
  {
   "cell_type": "code",
   "execution_count": 5,
   "metadata": {},
   "outputs": [
    {
     "data": {
      "image/png": "[encoded data removed]",
      "text/plain": [
       "<matplotlib.figure.Figure at 0x279392061d0>"
      ]
     },
     "metadata": {},
     "output_type": "display_data"
    }
   ],
   "source": [
    "#import matplotlib.pyplot as plt\n",
    "#import numpy as np\n",
    "#import pandas as pd\n",
    "#import seaborn as sns\n",
    "\n",
    "#x = [-2, 2, -2, 2]\n",
    "#y = [-4, 4, 0.5, 2.5]\n",
    "\n",
    "fig = plt.figure()\n",
    "plt.axhline(y=0, c='black')\n",
    "plt.axvline(x=0, c='black')\n",
    "\n",
    "plt.grid(True)\n",
    "ax = plt.gca()\n",
    "ax.set_xlim(-2.5,2.5)\n",
    "ax.set_ylim(-3,4)\n",
    "\n",
    "from functools import partial\n",
    "\n",
    "arraw_vector = partial(plt.arrow,width=0.01,head_width=0.1,head_length=0.2,length_includes_head=True)\n",
    "\n",
    "# 两个点确定一条向量，\n",
    "arraw_vector(0,0,2,-1,color='g')\n",
    "arraw_vector(0,0,-1,2,color='c')\n",
    "arraw_vector(2,-1,-2,4,color='b')\n",
    "arraw_vector(0,0,0,3,color='r',width=0.05)\n",
    "#arraw_vector(-1,2,1,1,color='y')\n",
    "\n",
    "plt.draw()\n",
    "\n",
    "plt.show()\n",
    "\n",
    "plt.close(fig)\n",
    "\n",
    "\n"
   ]
  },
  {
   "cell_type": "markdown",
   "metadata": {},
   "source": [
    "如上图所示，绿向量$col_1$ 与蓝向量 $col_2$ 合成了红色向量b\n",
    "\n",
    "接着，如果我们仔细观察：$1\\begin{bmatrix}2\\\\-1\\end{bmatrix} + 2\\begin{bmatrix}-1\\\\2\\end{bmatrix} = \\begin{bmatrix}0\\\\3\\end{bmatrix}$\n",
    "，$col_1$ 和 $col_2$ 的所有组合得到的是什么呢？不重合的两条向量的组合将得到整个平面。\n",
    "\n",
    "下面讨论三维情况：$\\begin{cases} 2x-y = 0\\\\-x + 2y -z = -1 \\\\-3z + 4z =4\t\\end{cases}$ ,在这个不等式中，每一行都是一个平面。其中：\n",
    "$ A = \\left(\\begin{array}{ccc}\n",
    "\t\t2 & -1 & 0\\\\ \n",
    "\t\t-1 & 2 & -1 \\\\\n",
    "        0 & -3 & 4\n",
    "\t\\end{array}\\right)$,    b= $\\begin{bmatrix}2\\\\\\\\-1\\end{bmatrix}$\n",
    "\n",
    "将方程改为列向量：$x\\begin{bmatrix}2\\\\-1\\\\0\\end{bmatrix} + y\\begin{bmatrix}-1\\\\2\\\\3\\end{bmatrix} + z\\begin{bmatrix}0\\\\-1\\\\4\\end{bmatrix} = \\begin{bmatrix}0\\\\-1\\\\4\\end{bmatrix} $,其中，当 $x=0,y=0,z=1$时，方程左右两边相等。\n",
    "\n",
    "Do the linear combination of the columns fill 3-D space? For this A, the answer is yes!\n",
    "\n",
    "这样的方程，当$ x,y,z $ 取任意值的时候，能否描绘整个平面呢。答案是如果矩阵$A$ 满足非奇异（或可逆），就可以描绘整个三维空间。\n",
    "\n",
    "\n",
    "下面我们推广到九维空间，每个方程有九个未知数，共九个方程，此时已经无法从坐标图像中描述问题了，但是我们依然可以从求九维列向量线性组合的角度解决问题，仍然是上面的问题，是否总能得到$b$？当然这仍取决于这九个向量，如果我们取一些并不相互独立的向量，则答案是否定的，比如取了九列但其实只相当于八列，有一列毫无贡献（这一列是前面列的某种线性组合），则会有一部分$b$无法求得\n",
    "\n",
    "Martix times verctor:\n",
    "\n",
    "下面教授通过例子来详细讲解的矩阵的乘法，$Ax = b $,矩阵和向量的乘法运算，$A = \\left(\\begin{array}{cc}2 & 5 \\\\ 1 & 3 \\end{array} \\right)$  x= $\\begin{bmatrix}1 \\\\\\\\2 \\end{bmatrix}$ \n",
    "\n",
    "第一种解法：$ \\left(\\begin{array}{cc}2 & 5 \\end{array} \\right) * \\begin{bmatrix}1 \\\\\\\\2 \\end{bmatrix} $ ,$ \\left(\\begin{array}{cc}1 & 3 \\end{array} \\right) * \\begin{bmatrix}1 \\\\\\\\2 \\end{bmatrix} $ \n",
    "\n",
    "第二种解法：$ 1 * \\begin{bmatrix}2 \\\\ 1 \\end{bmatrix}, 2 * \\begin{bmatrix}5 \\\\ 3 \\end{bmatrix}$,将$ Ax $ 看成是矩阵 $ A $ 列的组合\n"
   ]
  }
 ],
 "metadata": {
  "kernelspec": {
   "display_name": "Python 3",
   "language": "python",
   "name": "python3"
  },
  "language_info": {
   "codemirror_mode": {
    "name": "ipython",
    "version": 3
   },
   "file_extension": ".py",
   "mimetype": "text/x-python",
   "name": "python",
   "nbconvert_exporter": "python",
   "pygments_lexer": "ipython3",
   "version": "3.6.3"
  }
 },
 "nbformat": 4,
 "nbformat_minor": 2
}
