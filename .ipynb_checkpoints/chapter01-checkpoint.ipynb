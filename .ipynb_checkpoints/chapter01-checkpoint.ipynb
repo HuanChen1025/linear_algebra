{
 "cells": [
  {
   "cell_type": "markdown",
   "metadata": {},
   "source": []
  },
  {
   "cell_type": "code",
   "execution_count": 4,
   "metadata": {},
   "outputs": [
    {
     "data": {
      "image/png": "[encoded data removed]",
      "text/plain": [
       "<matplotlib.figure.Figure at 0x19a6ece09b0>"
      ]
     },
     "metadata": {},
     "output_type": "display_data"
    }
   ],
   "source": [
    "import matplotlib.pyplot as plt\n",
    "import numpy as np\n",
    "import pandas as pd\n",
    "#import seaborn as sns\n",
    "\n",
    "x = [-2, 2, -2, 2]\n",
    "y = [-4, 4, 0.5, 2.5]\n",
    "\n",
    "fig = plt.figure()\n",
    "plt.axhline(y=0, c='black')\n",
    "plt.axvline(x=0, c='black')\n",
    "\n",
    "ax = plt.gca()\n",
    "ax.set_xlim(-2.5,2.5)\n",
    "ax.set_ylim(-3,4)\n",
    "\n",
    "from functools import partial\n",
    "\n",
    "arraw_vector = partial(plt.arrow,width=0.01,head_width=0.1,head_length=0.2,length_includes_head=True)\n",
    "\n",
    "arraw_vector(0,0,2,-1,color='g')\n",
    "arraw_vector(0,0,-1,2,color='c')\n",
    "arraw_vector(2,-1,-2,4,color='b')\n",
    "arraw_vector(0,0,0,3,color='r',width=0.05)\n",
    "\n",
    "plt.draw()\n",
    "\n",
    "plt.show()\n",
    "\n",
    "plt.close(fig)\n",
    "\n",
    "\n"
   ]
  }
 ],
 "metadata": {
  "kernelspec": {
   "display_name": "Python 3",
   "language": "python",
   "name": "python3"
  },
  "language_info": {
   "codemirror_mode": {
    "name": "ipython",
    "version": 3
   },
   "file_extension": ".py",
   "mimetype": "text/x-python",
   "name": "python",
   "nbconvert_exporter": "python",
   "pygments_lexer": "ipython3",
   "version": "3.6.3"
  }
 },
 "nbformat": 4,
 "nbformat_minor": 2
}
