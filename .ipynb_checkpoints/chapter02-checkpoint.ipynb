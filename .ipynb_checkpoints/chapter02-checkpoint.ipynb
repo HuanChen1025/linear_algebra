{
 "cells": [
  {
   "cell_type": "markdown",
   "metadata": {},
   "source": [
    "## 矩阵消元\n",
    "\n",
    "本讲的主要从矩阵消元、回代、置换矩阵、逆矩阵四个部分展开说明。\n",
    "\n",
    "矩阵消元最早是由高斯提出的，我们以前在解方程组时都是采用的这种方法，现在将该方法和矩阵相结合使用。\n",
    "\n",
    "有方程组$\\begin{cases} x + 2y + z = 2\\\\3x+8y+z = 12\\\\4y+z = 2 \\end{cases}$,该方程对应的矩阵形式为$Ax =b$,为:$\\begin{bmatrix}1&2&1\\\\3&8&1\\\\0&4&1\\end{bmatrix}\\begin {bmatrix}x\\\\y\\\\z \\end{bmatrix} = \\begin{bmatrix}2\\\\12\\\\2 \\end{bmatrix}$\n",
    "\n",
    "按照我们以前的消元思想，矩阵消元如下：\n",
    "\n",
    "$\\begin{bmatrix}1&2&1\\\\3&8&1\\\\0&4&1\\end{bmatrix}\\xrightarrow{row*3 - row2} \\begin{bmatrix}1&2&1\\\\0&2&-2\\\\0&4&1\\end{bmatrix}\\xrightarrow{row2*2 - row3} \\begin{bmatrix} 1&2&1 \\\\ 0&2&-2 \\\\ 0&0&5 \\end{bmatrix}$\n",
    "\n",
    "- 第一步：我们应该选取一个主元，在这个例子中以左上角的 1 为主元，将主元所在的行乘以 3 减去第二行：$\\begin{bmatrix}1&2&1\\\\3&8&1\\\\0&4&1\\end{bmatrix}\\xrightarrow{row*3 - row2} \\begin{bmatrix}1&2&1\\\\0&2&-2\\\\0&4&1\\end{bmatrix}$\n",
    "\n",
    "- 第二步：选取第二行第二个数为主元，第二行乘以 2 减去第三行：$ \\begin{bmatrix}1&2&1\\\\0&2&-2\\\\0&4&1\\end{bmatrix}\\xrightarrow{row2*2 - row3} \\begin{bmatrix} 1&2&1 \\\\ 0&2&-2 \\\\ 0&0&5 \\end{bmatrix}$\n",
    "\n",
    "注意到第三行消元过后仅剩一个非零元素，所以它就成为第三个主元。做到这里就算消元完成了。\n",
    "\n",
    "另外，主元不能为0，无论如何也不能为0，否则这个矩阵就不是一个好的矩阵。那如果主元为 0 怎么办呢，办法是 row change，交换行，使主元不为0，\n",
    "\n",
    "比如矩阵: $\\begin{bmatrix} 1&2&1 \\\\ 3&8&1 \\\\0&4&-4 \\end{bmatrix}$,该矩阵就不是一个好的矩阵，因为它不可逆。在第一次消元之后，第二行和第三行成比例，消去之后第三行为0，不能完整的表达整个三维空间，只能说你三维空间里的某个二维平面。\n",
    "\n",
    "### 回代（back- substitution）\n",
    "在矩阵 $A$ 中新增右侧向量，$\\overline{A} = \\begin{bmatrix}1&2&1&2 \\\\ 0&2&-2&6 \\\\ 0&4&1&2 \\end{bmatrix} \\xrightarrow{消元}\\begin{bmatrix} 1&2&1&2 \\\\ 0&2&-2&6 \\\\ 0&0&5&-10 \\end{bmatrix}$，化为方程形式：$\\begin{cases} x+2y+z=2 \\\\ 2y-2z = 6\\\\5z=-10\\end{cases}$，可以解出：$\\begin{cases}x=2 \\\\y=1\\\\z=-2 \\end{cases}$\n",
    "\n",
    "\n",
    "### 消元矩阵\n",
    "\n",
    "\n",
    "### 逆矩阵\n",
    "\n",
    "\n",
    "\n",
    "\n",
    "\n",
    "\n",
    "\n",
    "\n",
    "\n",
    "\n",
    "\n",
    "\n",
    "\n"
   ]
  }
 ],
 "metadata": {
  "kernelspec": {
   "display_name": "Python 3",
   "language": "python",
   "name": "python3"
  },
  "language_info": {
   "codemirror_mode": {
    "name": "ipython",
    "version": 3
   },
   "file_extension": ".py",
   "mimetype": "text/x-python",
   "name": "python",
   "nbconvert_exporter": "python",
   "pygments_lexer": "ipython3",
   "version": "3.6.3"
  }
 },
 "nbformat": 4,
 "nbformat_minor": 2
}
