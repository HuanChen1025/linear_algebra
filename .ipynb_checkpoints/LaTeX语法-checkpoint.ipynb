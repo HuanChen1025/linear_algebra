{
 "cells": [
  {
   "cell_type": "markdown",
   "metadata": {},
   "source": [
    "## LaTeX 语法\n",
    "\n",
    "- 变量上方加横线，比如平均值和转置矩阵：$\\overline{A}$, 语法\\overline{A}\n",
    "- 向右的箭头，并且箭头上写文字，$\\xrightarrow{x-y}$, 语法\\xrightarrow{x-y}\n",
    "\n"
   ]
  }
 ],
 "metadata": {
  "kernelspec": {
   "display_name": "Python 3",
   "language": "python",
   "name": "python3"
  },
  "language_info": {
   "codemirror_mode": {
    "name": "ipython",
    "version": 3
   },
   "file_extension": ".py",
   "mimetype": "text/x-python",
   "name": "python",
   "nbconvert_exporter": "python",
   "pygments_lexer": "ipython3",
   "version": "3.6.3"
  }
 },
 "nbformat": 4,
 "nbformat_minor": 2
}
